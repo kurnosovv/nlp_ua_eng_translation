{
 "cells": [
  {
   "cell_type": "markdown",
   "metadata": {},
   "source": [
    "## Prepare"
   ]
  },
  {
   "cell_type": "code",
   "execution_count": null,
   "metadata": {
    "scrolled": true
   },
   "outputs": [],
   "source": [
    "from prepare import get_anki_dataset, get_target_dataset, load_dataset, show_tokens\n",
    "\n",
    "path_to_file_anki = get_anki_dataset('ukr-eng.zip')\n",
    "path_to_file_target = get_target_dataset('ua-target-201704.zip')\n",
    "\n",
    "en_tensors, ua_tensors, en_lang_tokenizer, ua_lang_tokenizer = load_dataset(path_to_file_anki, path_to_file_target)\n",
    "\n",
    "print(\"English Language; index to word mapping\")\n",
    "show_tokens(en_lang_tokenizer, en_tensors[-1])\n",
    "print()\n",
    "print(\"Ukrainian Language; index to word mapping\")\n",
    "show_tokens(ua_lang_tokenizer, ua_tensors[-1])"
   ]
  },
  {
   "cell_type": "code",
   "execution_count": null,
   "metadata": {},
   "outputs": [],
   "source": []
  },
  {
   "cell_type": "markdown",
   "metadata": {},
   "source": [
    "## Train seq2seq model"
   ]
  },
  {
   "cell_type": "code",
   "execution_count": null,
   "metadata": {
    "scrolled": true
   },
   "outputs": [],
   "source": [
    "from prepare import get_anki_dataset, get_target_dataset\n",
    "from train_seq2seq import train_seq2seq\n",
    "import model_params\n",
    "\n",
    "path_to_file_anki = get_anki_dataset('ukr-eng.zip')\n",
    "path_to_file_target = get_target_dataset('ua-target-201704.zip')\n",
    "\n",
    "train_seq2seq(path_to_file_anki, path_to_file_target, config=model_params.SEQ2SEQ_MODEL_PARAMS)"
   ]
  },
  {
   "cell_type": "code",
   "execution_count": null,
   "metadata": {},
   "outputs": [],
   "source": []
  },
  {
   "cell_type": "markdown",
   "metadata": {},
   "source": [
    "## Train transformer model"
   ]
  },
  {
   "cell_type": "code",
   "execution_count": null,
   "metadata": {},
   "outputs": [],
   "source": [
    "from prepare import get_anki_dataset, get_target_dataset\n",
    "from train_transformer import train_transformer\n",
    "import model_params\n",
    "\n",
    "path_to_file_anki = get_anki_dataset('ukr-eng.zip')\n",
    "path_to_file_target = get_target_dataset('ua-target-201704.zip')\n",
    "\n",
    "train_transformer(path_to_file_anki, path_to_file_target, config=model_params.TRANSFORMER_MODEL_PARAMS)"
   ]
  },
  {
   "cell_type": "code",
   "execution_count": null,
   "metadata": {},
   "outputs": [],
   "source": []
  },
  {
   "cell_type": "markdown",
   "metadata": {},
   "source": [
    "## Predict with seq2seq model"
   ]
  },
  {
   "cell_type": "code",
   "execution_count": null,
   "metadata": {},
   "outputs": [],
   "source": [
    "from predict_seq2seq import translate_seq2seq\n",
    "import model_params\n",
    "\n",
    "def translate_(sent):\n",
    "    return translate_seq2seq(sent, config=model_params.SEQ2SEQ_MODEL_PARAMS)\n",
    "\n",
    "translate_(u'ти згоден')\n",
    "translate_(u'Том весь вечір дивиться телевізор.')\n",
    "translate_(u'Я щойно згадав, що мені треба щось зробити.')"
   ]
  },
  {
   "cell_type": "code",
   "execution_count": null,
   "metadata": {},
   "outputs": [],
   "source": []
  },
  {
   "cell_type": "markdown",
   "metadata": {},
   "source": [
    "## Predict with transformer model"
   ]
  },
  {
   "cell_type": "code",
   "execution_count": 1,
   "metadata": {},
   "outputs": [],
   "source": [
    "from predict_transformer import translate_transformer\n",
    "import model_params\n",
    "\n",
    "def translate_(sent):\n",
    "    return translate_transformer(sent, config=model_params.TRANSFORMER_MODEL_PARAMS)\n",
    "\n",
    "translate_(u'ти згоден')\n",
    "translate_(u'Том весь вечір дивиться телевізор.')\n",
    "translate_(u'Я щойно згадав, що мені треба щось зробити.')"
   ]
  },
  {
   "cell_type": "code",
   "execution_count": null,
   "metadata": {},
   "outputs": [],
   "source": []
  }
 ],
 "metadata": {
  "kernelspec": {
   "display_name": "Python 3",
   "language": "python",
   "name": "python3"
  },
  "language_info": {
   "codemirror_mode": {
    "name": "ipython",
    "version": 3
   },
   "file_extension": ".py",
   "mimetype": "text/x-python",
   "name": "python",
   "nbconvert_exporter": "python",
   "pygments_lexer": "ipython3",
   "version": "3.7.6"
  }
 },
 "nbformat": 4,
 "nbformat_minor": 4
}
